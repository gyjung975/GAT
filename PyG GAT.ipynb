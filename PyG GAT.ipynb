{
 "cells": [
  {
   "cell_type": "code",
   "execution_count": 1,
   "id": "fa6f7a8d-595e-4ff0-8330-f0b63f6022e5",
   "metadata": {},
   "outputs": [],
   "source": [
    "import torch\n",
    "import torch.nn as nn\n",
    "import torch.nn.functional as F\n",
    "import torch_geometric.transforms as T\n",
    "from torch_geometric.datasets import Planetoid\n",
    "from torch_geometric.nn import GATConv"
   ]
  },
  {
   "cell_type": "code",
   "execution_count": 2,
   "id": "5d0146d3-114c-42e2-ad8b-ce1ade223562",
   "metadata": {},
   "outputs": [],
   "source": [
    "dataset = Planetoid(root='./', name = 'cora', transform = T.NormalizeFeatures())\n",
    "g = dataset[0]"
   ]
  },
  {
   "cell_type": "code",
   "execution_count": 3,
   "id": "b88811be-ce82-4951-9d9d-bf3c1d41a08b",
   "metadata": {},
   "outputs": [
    {
     "name": "stdout",
     "output_type": "stream",
     "text": [
      "7\n",
      "Data(x=[2708, 1433], edge_index=[2, 10556], y=[2708], train_mask=[2708], val_mask=[2708], test_mask=[2708])\n",
      "['x', 'train_mask', 'test_mask', 'val_mask', 'y', 'edge_index']\n"
     ]
    }
   ],
   "source": [
    "print(dataset.num_classes)\n",
    "print(g)\n",
    "print(g.keys)"
   ]
  },
  {
   "cell_type": "code",
   "execution_count": 4,
   "id": "35970ca0-a8e8-4201-a222-ca6cd7bd89d7",
   "metadata": {},
   "outputs": [],
   "source": [
    "# class GAT(nn.Module):\n",
    "#     def __init__(self, in_channels, out_channels):\n",
    "#         super(GAT, self).__init__()\n",
    "        \n",
    "#         self.conv1 = GATConv(in_channels, 8, heads = 8, dropout = 0.6)\n",
    "#         self.conv2 = GATConv(8 * 8, out_channels, heads = 1, concat = False, dropout = 0.6)\n",
    "        \n",
    "#     def forward(self, x, edge_index):\n",
    "#         x = F.elu(self.conv1(x, edge_index))\n",
    "#         x = F.dropout(x, p=0.6, training=self.training)\n",
    "#         x = self.conv2(x, edge_index)\n",
    "#         return x"
   ]
  },
  {
   "cell_type": "code",
   "execution_count": 5,
   "id": "e8447fb0-3216-4e07-9f78-1e2a3594aa5a",
   "metadata": {},
   "outputs": [],
   "source": [
    "class GAT(nn.Module):\n",
    "    def __init__(self, in_channels, out_channels):\n",
    "        super(GAT, self).__init__()\n",
    "        \n",
    "        self.conv1 = GATConv(in_channels, 8, heads = 8, dropout = 0.6)\n",
    "        self.conv2 = GATConv(8 * 8, out_channels, heads = 1, concat = False, dropout = 0.6)\n",
    "        \n",
    "    def forward(self, g):\n",
    "        x, edge_index = g.x, g.edge_index\n",
    "            \n",
    "        x = F.elu(self.conv1(x, edge_index))            \n",
    "        x = F.dropout(x, p = 0.6, training = self.training)\n",
    "        x = self.conv2(x, edge_index)\n",
    "        return x"
   ]
  },
  {
   "cell_type": "code",
   "execution_count": 6,
   "id": "4ca6a9ba-c0a5-4f6d-b066-a03b342acf97",
   "metadata": {},
   "outputs": [
    {
     "name": "stdout",
     "output_type": "stream",
     "text": [
      "cpu\n"
     ]
    }
   ],
   "source": [
    "device = 'cuda' if torch.cuda.is_available() else 'cpu'\n",
    "print(device)"
   ]
  },
  {
   "cell_type": "code",
   "execution_count": 7,
   "id": "5b73e78f-9db3-44dd-b097-2c933c150a46",
   "metadata": {},
   "outputs": [
    {
     "name": "stdout",
     "output_type": "stream",
     "text": [
      "GAT(\n",
      "  (conv1): GATConv(1433, 8, heads=8)\n",
      "  (conv2): GATConv(64, 7, heads=1)\n",
      ")\n"
     ]
    }
   ],
   "source": [
    "model = GAT(g.num_features, dataset.num_classes).to(device)\n",
    "g = g.to(device)\n",
    "optimizer = torch.optim.Adam(model.parameters(), lr = 0.005, weight_decay = 5e-4)\n",
    "criterion = nn.CrossEntropyLoss()\n",
    "print(model)"
   ]
  },
  {
   "cell_type": "code",
   "execution_count": 8,
   "id": "acf9d81b-11e6-40b1-b742-787a4f7d25fe",
   "metadata": {},
   "outputs": [],
   "source": [
    "def train(data):\n",
    "    model.train()\n",
    "    \n",
    "    out = model(data)\n",
    "    loss = criterion(out[data.train_mask], data.y[data.train_mask])\n",
    "    \n",
    "    optimizer.zero_grad()\n",
    "    loss.backward()\n",
    "    optimizer.step()\n",
    "    \n",
    "    pred = out.argmax(1)\n",
    "    correct = (pred[data.train_mask] == data.y[data.train_mask]).sum().item()\n",
    "    train_acc = correct / (data.train_mask.sum().item())\n",
    "    \n",
    "    if i % 10 == 0:\n",
    "        print(\"Epoch {:05d}  /  Loss {:.4f}  /  Train_acc {:.4f}\".\n",
    "              format(i, loss.item(), train_acc))"
   ]
  },
  {
   "cell_type": "code",
   "execution_count": 9,
   "id": "8e656724-2c14-4592-a586-6c1d286be20b",
   "metadata": {},
   "outputs": [],
   "source": [
    "def test(data):\n",
    "    model.eval()\n",
    "    \n",
    "    out = model(data)\n",
    "    pred = out.argmax(1)\n",
    "    correct = (pred[data.test_mask] == data.y[data.test_mask]).sum().item()\n",
    "    test_acc = correct / data.test_mask.sum().item()\n",
    "    print(\"Test Accuracy :\", test_acc)"
   ]
  },
  {
   "cell_type": "code",
   "execution_count": 10,
   "id": "66f496d3-bf25-409a-9afa-9a97f04380d8",
   "metadata": {},
   "outputs": [
    {
     "name": "stdout",
     "output_type": "stream",
     "text": [
      "Epoch 00000  /  Loss 1.9466  /  Train_acc 0.1429\n",
      "Epoch 00010  /  Loss 1.8522  /  Train_acc 0.6643\n",
      "Epoch 00020  /  Loss 1.7411  /  Train_acc 0.7429\n",
      "Epoch 00030  /  Loss 1.5837  /  Train_acc 0.7857\n",
      "Epoch 00040  /  Loss 1.3688  /  Train_acc 0.8000\n",
      "Epoch 00050  /  Loss 1.2331  /  Train_acc 0.8143\n",
      "Epoch 00060  /  Loss 1.0795  /  Train_acc 0.8500\n",
      "Epoch 00070  /  Loss 0.9842  /  Train_acc 0.8786\n",
      "Epoch 00080  /  Loss 0.9058  /  Train_acc 0.8714\n",
      "Epoch 00090  /  Loss 0.7630  /  Train_acc 0.8643\n",
      "Test Accuracy : 0.814\n"
     ]
    }
   ],
   "source": [
    "epoch = 100\n",
    "for i in range(epoch):\n",
    "    train(g)\n",
    "    \n",
    "test(g)"
   ]
  }
 ],
 "metadata": {
  "kernelspec": {
   "display_name": "pytorch",
   "language": "python",
   "name": "pytorch"
  },
  "language_info": {
   "codemirror_mode": {
    "name": "ipython",
    "version": 3
   },
   "file_extension": ".py",
   "mimetype": "text/x-python",
   "name": "python",
   "nbconvert_exporter": "python",
   "pygments_lexer": "ipython3",
   "version": "3.9.7"
  }
 },
 "nbformat": 4,
 "nbformat_minor": 5
}
